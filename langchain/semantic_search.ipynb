{
 "cells": [
  {
   "cell_type": "code",
   "execution_count": 1,
   "id": "6e44647c",
   "metadata": {},
   "outputs": [],
   "source": [
    "from langchain_community.document_loaders import PyPDFLoader\n",
    "from langchain_huggingface import HuggingFaceEmbeddings\n",
    "from langchain_text_splitters import RecursiveCharacterTextSplitter"
   ]
  },
  {
   "cell_type": "markdown",
   "id": "a1c4929c",
   "metadata": {},
   "source": [
    "## Load PDF"
   ]
  },
  {
   "cell_type": "code",
   "execution_count": 2,
   "id": "b8a2bfc2",
   "metadata": {},
   "outputs": [
    {
     "name": "stdout",
     "output_type": "stream",
     "text": [
      "66\n"
     ]
    }
   ],
   "source": [
    "file_path = \"../example_data/PPPR 2024 - Overview.pdf\"\n",
    "loader = PyPDFLoader(file_path)\n",
    "\n",
    "docs = loader.load()\n",
    "\n",
    "print(len(docs))"
   ]
  },
  {
   "cell_type": "markdown",
   "id": "9223914d",
   "metadata": {},
   "source": [
    "## Split"
   ]
  },
  {
   "cell_type": "code",
   "execution_count": 3,
   "id": "78de0c03",
   "metadata": {},
   "outputs": [
    {
     "data": {
      "text/plain": [
       "120"
      ]
     },
     "execution_count": 3,
     "metadata": {},
     "output_type": "execute_result"
    }
   ],
   "source": [
    "text_splitter = RecursiveCharacterTextSplitter(\n",
    "    chunk_size=2000, chunk_overlap=200, add_start_index=True\n",
    ")\n",
    "all_splits = text_splitter.split_documents(docs)\n",
    "\n",
    "len(all_splits)"
   ]
  },
  {
   "cell_type": "markdown",
   "id": "d13e9e1e",
   "metadata": {},
   "source": [
    "## Embed"
   ]
  },
  {
   "cell_type": "code",
   "execution_count": 4,
   "id": "14d7e3a7",
   "metadata": {},
   "outputs": [
    {
     "name": "stderr",
     "output_type": "stream",
     "text": [
      "flash_attn is not installed. Using PyTorch native attention implementation.\n",
      "flash_attn is not installed. Using PyTorch native attention implementation.\n",
      "flash_attn is not installed. Using PyTorch native attention implementation.\n",
      "flash_attn is not installed. Using PyTorch native attention implementation.\n",
      "flash_attn is not installed. Using PyTorch native attention implementation.\n",
      "flash_attn is not installed. Using PyTorch native attention implementation.\n",
      "flash_attn is not installed. Using PyTorch native attention implementation.\n",
      "flash_attn is not installed. Using PyTorch native attention implementation.\n",
      "flash_attn is not installed. Using PyTorch native attention implementation.\n",
      "flash_attn is not installed. Using PyTorch native attention implementation.\n",
      "flash_attn is not installed. Using PyTorch native attention implementation.\n",
      "flash_attn is not installed. Using PyTorch native attention implementation.\n",
      "flash_attn is not installed. Using PyTorch native attention implementation.\n",
      "flash_attn is not installed. Using PyTorch native attention implementation.\n",
      "flash_attn is not installed. Using PyTorch native attention implementation.\n",
      "flash_attn is not installed. Using PyTorch native attention implementation.\n",
      "flash_attn is not installed. Using PyTorch native attention implementation.\n",
      "flash_attn is not installed. Using PyTorch native attention implementation.\n",
      "flash_attn is not installed. Using PyTorch native attention implementation.\n",
      "flash_attn is not installed. Using PyTorch native attention implementation.\n",
      "flash_attn is not installed. Using PyTorch native attention implementation.\n",
      "flash_attn is not installed. Using PyTorch native attention implementation.\n",
      "flash_attn is not installed. Using PyTorch native attention implementation.\n",
      "flash_attn is not installed. Using PyTorch native attention implementation.\n",
      "flash_attn is not installed. Using PyTorch native attention implementation.\n"
     ]
    }
   ],
   "source": [
    "embeddings = HuggingFaceEmbeddings(\n",
    "    model_name=\"jinaai/jina-embeddings-v3\",\n",
    "    model_kwargs={\n",
    "        \"device\":'cuda',\n",
    "        \"trust_remote_code\": True\n",
    "    })"
   ]
  },
  {
   "cell_type": "code",
   "execution_count": 5,
   "id": "ca327886",
   "metadata": {},
   "outputs": [
    {
     "name": "stdout",
     "output_type": "stream",
     "text": [
      "Vectors length: 1024\n",
      "\n",
      "[0.0712890625, -0.154296875, -0.035888671875, -0.032470703125, -0.10400390625, -0.09228515625, -0.01904296875, 0.03125, -0.09130859375, -0.00628662109375]\n"
     ]
    }
   ],
   "source": [
    "vector_1 = embeddings.embed_query(all_splits[0].page_content)\n",
    "vector_2 = embeddings.embed_query(all_splits[1].page_content)\n",
    "\n",
    "assert len(vector_1) == len(vector_2)\n",
    "print(f\"Vectors length: {len(vector_1)}\\n\")\n",
    "print(vector_1[:10])"
   ]
  },
  {
   "cell_type": "markdown",
   "id": "c9a8b80e",
   "metadata": {},
   "source": [
    "## Vector stores"
   ]
  },
  {
   "cell_type": "code",
   "execution_count": 6,
   "id": "1dc05445",
   "metadata": {},
   "outputs": [],
   "source": [
    "from langchain_core.vectorstores import InMemoryVectorStore\n",
    "\n",
    "vector_store = InMemoryVectorStore(embeddings)"
   ]
  },
  {
   "cell_type": "markdown",
   "id": "5de534d7",
   "metadata": {},
   "source": [
    "### Add the doc"
   ]
  },
  {
   "cell_type": "code",
   "execution_count": 7,
   "id": "bc735269",
   "metadata": {},
   "outputs": [],
   "source": [
    "ids = vector_store.add_documents(documents=all_splits)"
   ]
  },
  {
   "cell_type": "markdown",
   "id": "a40198ae",
   "metadata": {},
   "source": [
    "### Try to query"
   ]
  },
  {
   "cell_type": "code",
   "execution_count": 8,
   "id": "d49d6368",
   "metadata": {},
   "outputs": [
    {
     "name": "stdout",
     "output_type": "stream",
     "text": [
      "Score: 0.48520073651107326\n",
      "\n",
      "page_content='country emits. A few small countries with very high per capita emissions (bahrain, Guyana, iceland, Kuwait, oman, \n",
      "Palau, Qatar, trinidad and tobago, u nited Arab e mirates) and countries with very low per capita emissions (Central \n",
      "African republic, vanuatu) are omitted for visual purposes. t he horizontal axis uses a logarithmic scale.' metadata={'producer': 'Adobe PDF Library 15.0', 'creator': 'Adobe InDesign 15.1 (Macintosh)', 'creationdate': '2024-10-04T09:08:57+05:30', 'author': 'The World Bank Group', 'moddate': '2024-10-04T09:18:42+05:30', 'title': 'The Poverty, Prosperity, and Planet Report 2024; Overview', 'trapped': '/False', 'source': '../example_data/PPPR 2024 - Overview.pdf', 'total_pages': 66, 'page': 46, 'page_label': '31', 'start_index': 1873}\n"
     ]
    }
   ],
   "source": [
    "results = vector_store.similarity_search_with_score(\"Timur Tengah\")  # \"Middle East\" in Bahasa Indonesia\n",
    "\n",
    "doc, score = results[0]\n",
    "print(f\"Score: {score}\\n\")\n",
    "print(doc)"
   ]
  },
  {
   "cell_type": "markdown",
   "id": "d6719dae",
   "metadata": {},
   "source": [
    "### Use retrievers"
   ]
  },
  {
   "cell_type": "code",
   "execution_count": 9,
   "id": "b65b494f",
   "metadata": {},
   "outputs": [
    {
     "data": {
      "text/plain": [
       "[[Document(id='ac0dfac9-f138-43e3-aa83-2d1a5e6b9b9a', metadata={'producer': 'Adobe PDF Library 15.0', 'creator': 'Adobe InDesign 15.1 (Macintosh)', 'creationdate': '2024-10-04T09:08:57+05:30', 'author': 'The World Bank Group', 'moddate': '2024-10-04T09:18:42+05:30', 'title': 'The Poverty, Prosperity, and Planet Report 2024; Overview', 'trapped': '/False', 'source': '../example_data/PPPR 2024 - Overview.pdf', 'total_pages': 66, 'page': 46, 'page_label': '31', 'start_index': 1873}, page_content='country emits. A few small countries with very high per capita emissions (bahrain, Guyana, iceland, Kuwait, oman, \\nPalau, Qatar, trinidad and tobago, u nited Arab e mirates) and countries with very low per capita emissions (Central \\nAfrican republic, vanuatu) are omitted for visual purposes. t he horizontal axis uses a logarithmic scale.')],\n",
       " [Document(id='0865dd65-33a6-4852-a69b-d9a2d8bfa869', metadata={'producer': 'Adobe PDF Library 15.0', 'creator': 'Adobe InDesign 15.1 (Macintosh)', 'creationdate': '2024-10-04T09:08:57+05:30', 'author': 'The World Bank Group', 'moddate': '2024-10-04T09:18:42+05:30', 'title': 'The Poverty, Prosperity, and Planet Report 2024; Overview', 'trapped': '/False', 'source': '../example_data/PPPR 2024 - Overview.pdf', 'total_pages': 66, 'page': 30, 'page_label': '15', 'start_index': 1719}, page_content='from climate-related hazards across the world (World Bank, n.d.). Nearly one in five people \\n(17.9\\xa0percent) is at high risk from climate-related hazards globally, meaning they are likely to \\nexperience a severe climate shock in their lifetime that they will struggle to recover from. People \\nare considered at risk from climate-related hazards if they are exposed to a hazard (specifically \\nfloods, heat, drought, cyclones) and are vulnerable to experiencing severe welfare effects from \\nthese events when they occur. Vulnerability, which is a person’s propensity or predisposition to be \\nadversely affected, is what moves people from being exposed to being at risk. Box O.3 summarizes \\nhow the indicator was constructed. \\nCountries can have similar shares of their population exposed, but different shares of \\ntheir population at risk (map O.2). South Asia is the region with the largest share of its \\npopulation exposed to shocks (88.1 percent), followed by East Asia and Pacific (67.9 percent). \\nBut\\xa0Sub-Saharan Africa has the largest share of people who are at high risk from extreme \\nweather events, even though the share of people exposed is smaller than Asia. In Sub-Saharan \\nAfrica, nearly the same proportion of people exposed to an extreme weather event is also at \\nhigh risk (39.2 percent and 37.3 percent, respectively, of the total population). In comparison, \\neven though two-thirds of the population in East Asia and Pacific is exposed, less than one-\\ntenth is at risk. Vulnerability is lowest in North America, with less than 1 percent of the \\npopulation at high risk, despite 31 percent of the population being exposed to a weather shock. \\nIn absolute terms, South Asia has the largest number of people at high risk from extreme \\nweather events (594 million people, or 32 percent of its population).')]]"
      ]
     },
     "execution_count": 9,
     "metadata": {},
     "output_type": "execute_result"
    }
   ],
   "source": [
    "from typing import List\n",
    "\n",
    "from langchain_core.documents import Document\n",
    "from langchain_core.runnables import chain\n",
    "\n",
    "\n",
    "@chain\n",
    "def retriever(query: str) -> List[Document]:\n",
    "    return vector_store.similarity_search(query, k=1)\n",
    "\n",
    "\n",
    "retriever.batch(\n",
    "    [\n",
    "        \"Timur Tengah\",\n",
    "        \"Asia Selatan\",  # South Asia\n",
    "    ],\n",
    ")"
   ]
  },
  {
   "cell_type": "markdown",
   "id": "59011b1a",
   "metadata": {},
   "source": [
    "### Dump"
   ]
  },
  {
   "cell_type": "code",
   "execution_count": 10,
   "id": "c1cb1d1e",
   "metadata": {},
   "outputs": [],
   "source": [
    "vector_store.dump(\"vector_store.dump\")"
   ]
  }
 ],
 "metadata": {
  "kernelspec": {
   "display_name": ".venv",
   "language": "python",
   "name": "python3"
  },
  "language_info": {
   "codemirror_mode": {
    "name": "ipython",
    "version": 3
   },
   "file_extension": ".py",
   "mimetype": "text/x-python",
   "name": "python",
   "nbconvert_exporter": "python",
   "pygments_lexer": "ipython3",
   "version": "3.12.9"
  }
 },
 "nbformat": 4,
 "nbformat_minor": 5
}
