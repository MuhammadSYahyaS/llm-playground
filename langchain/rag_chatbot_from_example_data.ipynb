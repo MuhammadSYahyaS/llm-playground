{
 "cells": [
  {
   "cell_type": "code",
   "execution_count": 1,
   "id": "6e44647c",
   "metadata": {},
   "outputs": [],
   "source": [
    "from langchain_huggingface import HuggingFaceEmbeddings"
   ]
  },
  {
   "cell_type": "markdown",
   "id": "c9a8b80e",
   "metadata": {},
   "source": [
    "## Load dumped vector stores"
   ]
  },
  {
   "cell_type": "code",
   "execution_count": 2,
   "id": "f5b2f859",
   "metadata": {},
   "outputs": [
    {
     "name": "stderr",
     "output_type": "stream",
     "text": [
      "flash_attn is not installed. Using PyTorch native attention implementation.\n",
      "flash_attn is not installed. Using PyTorch native attention implementation.\n",
      "flash_attn is not installed. Using PyTorch native attention implementation.\n",
      "flash_attn is not installed. Using PyTorch native attention implementation.\n",
      "flash_attn is not installed. Using PyTorch native attention implementation.\n",
      "flash_attn is not installed. Using PyTorch native attention implementation.\n",
      "flash_attn is not installed. Using PyTorch native attention implementation.\n",
      "flash_attn is not installed. Using PyTorch native attention implementation.\n",
      "flash_attn is not installed. Using PyTorch native attention implementation.\n",
      "flash_attn is not installed. Using PyTorch native attention implementation.\n",
      "flash_attn is not installed. Using PyTorch native attention implementation.\n",
      "flash_attn is not installed. Using PyTorch native attention implementation.\n",
      "flash_attn is not installed. Using PyTorch native attention implementation.\n",
      "flash_attn is not installed. Using PyTorch native attention implementation.\n",
      "flash_attn is not installed. Using PyTorch native attention implementation.\n",
      "flash_attn is not installed. Using PyTorch native attention implementation.\n",
      "flash_attn is not installed. Using PyTorch native attention implementation.\n",
      "flash_attn is not installed. Using PyTorch native attention implementation.\n",
      "flash_attn is not installed. Using PyTorch native attention implementation.\n",
      "flash_attn is not installed. Using PyTorch native attention implementation.\n",
      "flash_attn is not installed. Using PyTorch native attention implementation.\n",
      "flash_attn is not installed. Using PyTorch native attention implementation.\n",
      "flash_attn is not installed. Using PyTorch native attention implementation.\n",
      "flash_attn is not installed. Using PyTorch native attention implementation.\n",
      "flash_attn is not installed. Using PyTorch native attention implementation.\n"
     ]
    }
   ],
   "source": [
    "embeddings = HuggingFaceEmbeddings(\n",
    "    model_name=\"jinaai/jina-embeddings-v3\",\n",
    "    model_kwargs={\n",
    "        \"device\":'cuda',\n",
    "        \"trust_remote_code\": True\n",
    "    })"
   ]
  },
  {
   "cell_type": "code",
   "execution_count": 3,
   "id": "1dc05445",
   "metadata": {},
   "outputs": [],
   "source": [
    "from langchain_core.vectorstores import InMemoryVectorStore\n",
    "\n",
    "vector_store = InMemoryVectorStore.load(\"vector_store.dump\", embeddings)"
   ]
  },
  {
   "cell_type": "markdown",
   "id": "f6ef609c",
   "metadata": {},
   "source": [
    "## LLM"
   ]
  },
  {
   "cell_type": "code",
   "execution_count": 4,
   "id": "5f30dedf",
   "metadata": {},
   "outputs": [
    {
     "data": {
      "application/vnd.jupyter.widget-view+json": {
       "model_id": "363b99fc1aaf4d868da35198fc374bd0",
       "version_major": 2,
       "version_minor": 0
      },
      "text/plain": [
       "Loading checkpoint shards:   0%|          | 0/2 [00:00<?, ?it/s]"
      ]
     },
     "metadata": {},
     "output_type": "display_data"
    },
    {
     "name": "stderr",
     "output_type": "stream",
     "text": [
      "The following generation flags are not valid and may be ignored: ['temperature', 'top_p', 'min_p', 'top_k']. Set `TRANSFORMERS_VERBOSITY=info` for more details.\n",
      "The following generation flags are not valid and may be ignored: ['temperature', 'top_p', 'min_p', 'top_k']. Set `TRANSFORMERS_VERBOSITY=info` for more details.\n",
      "Device set to use cuda:0\n"
     ]
    }
   ],
   "source": [
    "from langchain_huggingface import ChatHuggingFace, HuggingFacePipeline\n",
    "from transformers import BitsAndBytesConfig\n",
    "quantization_config = BitsAndBytesConfig(\n",
    "    load_in_8bit=True\n",
    ")\n",
    "\n",
    "llm = HuggingFacePipeline.from_model_id(\n",
    "    model_id=\"janhq/Jan-v1-4B\",\n",
    "    task=\"text-generation\",\n",
    "    pipeline_kwargs=dict(max_new_tokens=4096),\n",
    "    model_kwargs={\"quantization_config\": quantization_config},\n",
    ")\n",
    "\n",
    "chat_model = ChatHuggingFace(llm=llm)"
   ]
  },
  {
   "cell_type": "markdown",
   "id": "b95eda93",
   "metadata": {},
   "source": [
    "## RAG"
   ]
  },
  {
   "cell_type": "code",
   "execution_count": 5,
   "id": "c1cb1d1e",
   "metadata": {},
   "outputs": [],
   "source": [
    "from langchain import hub\n",
    "prompt = hub.pull(\"rlm/rag-prompt\")"
   ]
  },
  {
   "cell_type": "code",
   "execution_count": 6,
   "id": "d126c24d",
   "metadata": {},
   "outputs": [],
   "source": [
    "from langchain_core.documents import Document\n",
    "from typing_extensions import List, TypedDict\n",
    "\n",
    "\n",
    "class State(TypedDict):\n",
    "    question: str\n",
    "    context: List[Document]\n",
    "    answer: str"
   ]
  },
  {
   "cell_type": "code",
   "execution_count": 7,
   "id": "a187020f",
   "metadata": {},
   "outputs": [],
   "source": [
    "def retrieve(state: State):\n",
    "    retrieved_docs = vector_store.similarity_search(state[\"question\"])\n",
    "    return {\"context\": retrieved_docs}\n",
    "\n",
    "\n",
    "def generate(state: State):\n",
    "    docs_content = \"\\n\\n\".join(doc.page_content for doc in state[\"context\"])\n",
    "    messages = prompt.invoke({\"question\": state[\"question\"], \"context\": docs_content})\n",
    "    response = chat_model.invoke(messages)\n",
    "    return {\"answer\": response.content}"
   ]
  },
  {
   "cell_type": "code",
   "execution_count": 8,
   "id": "80dd28d8",
   "metadata": {},
   "outputs": [
    {
     "data": {
      "image/png": "[encoded data removed]",
      "text/plain": [
       "<IPython.core.display.Image object>"
      ]
     },
     "metadata": {},
     "output_type": "display_data"
    }
   ],
   "source": [
    "from langgraph.graph import START, StateGraph\n",
    "from IPython.display import Image, display\n",
    "\n",
    "graph_builder = StateGraph(State).add_sequence([retrieve, generate])\n",
    "graph_builder.add_edge(START, \"retrieve\")\n",
    "graph = graph_builder.compile()\n",
    "\n",
    "display(Image(graph.get_graph().draw_mermaid_png()))"
   ]
  },
  {
   "cell_type": "markdown",
   "id": "eddb2e7a",
   "metadata": {},
   "source": [
    "### Test the RAG"
   ]
  },
  {
   "cell_type": "code",
   "execution_count": 9,
   "id": "a777c262",
   "metadata": {},
   "outputs": [
    {
     "name": "stdout",
     "output_type": "stream",
     "text": [
      "Context: [Document(id='3166283d-079a-4c0b-b15c-c27acf652521', metadata={'producer': 'Adobe PDF Library 15.0', 'creator': 'Adobe InDesign 15.1 (Macintosh)', 'creationdate': '2024-10-04T09:08:57+05:30', 'author': 'The World Bank Group', 'moddate': '2024-10-04T09:18:42+05:30', 'title': 'The Poverty, Prosperity, and Planet Report 2024; Overview', 'trapped': '/False', 'source': '../example_data/PPPR 2024 - Overview.pdf', 'total_pages': 66, 'page': 49, 'page_label': '34', 'start_index': 1818}, page_content='regions and country groupings circa 2021. For more information on the multidimensional poverty measure and its \\ncomponents, see chapter 1 of the full report. Panel b: the sample consists of 45 countries that have data both for \\n2010 and 2019. these countries represent 52 percent of the population in idA and 63 percent of the population in \\nnon-idA countries. the variables used to compute the risk indicator for the years 2010 and 2019 differ slightly from \\nthe risk indicator for the year 2021 used in other parts of the report. * the surveys available for 2020 or later cover \\nless than 50 percent of the population.'), Document(id='5c51cab2-c5df-4cd0-8aa6-8c94310afbd6', metadata={'producer': 'Adobe PDF Library 15.0', 'creator': 'Adobe InDesign 15.1 (Macintosh)', 'creationdate': '2024-10-04T09:08:57+05:30', 'author': 'The World Bank Group', 'moddate': '2024-10-04T09:18:42+05:30', 'title': 'The Poverty, Prosperity, and Planet Report 2024; Overview', 'trapped': '/False', 'source': '../example_data/PPPR 2024 - Overview.pdf', 'total_pages': 66, 'page': 21, 'page_label': '6', 'start_index': 1820}, page_content='has had (Decerf et al. 2024).\\nExtreme poverty has been increasingly concentrated in countries with slow \\neconomic growth\\nA large factor in the slowing of global poverty reduction over the last decade is the changing \\nregional composition of poverty. In 1990, East Asia and Pacific had a higher poverty rate than \\nSub-Saharan Africa, and South Asia had rates similar to Sub-Saharan Africa. This picture \\nchanged markedly over the years. Fueled by rapid growth, East Asia and Pacific experienced \\nunprecedented progress that also drove poverty reduction at the global level. Until 2013, global \\nextreme poverty reduction was led by China’s rapid economic growth, which lifted more than \\n800 million people out of extreme poverty over three decades. Between 1990 and 2024, the rest \\nof East Asia and Pacific also made remarkable progress, with 210 million people exiting extreme \\npoverty during this period. Extreme poverty also fell significantly in South Asia, despite recent \\nstagnation (see chapter 1).\\nSince the early 2010s, progress in reducing global extreme poverty has depended on the \\nreduction of poverty in Sub-Saharan Africa much more than it did before. Although the \\nextreme poverty rate in Sub-Saharan Africa has fallen over the past three decades, it did so at \\nmuch slower rates than in other regions, and the number of people living in extreme poverty \\nin the region has come fairly close to doubling—rising from 282 million in 1990 to 464 million \\nin 2024. Similarly, in the Middle East and North Africa, the number of people living in extreme \\npoverty doubled from 15 million in 1990 to 30 million in 2024. Extreme poverty in that region \\nhas surged since 2014, driven by fragility, conflict, and inflation (Gatti et al. 2023).'), Document(id='86d2bf4b-2851-46cf-b750-4ae9221e13cf', metadata={'producer': 'Adobe PDF Library 15.0', 'creator': 'Adobe InDesign 15.1 (Macintosh)', 'creationdate': '2024-10-04T09:08:57+05:30', 'author': 'The World Bank Group', 'moddate': '2024-10-04T09:18:42+05:30', 'title': 'The Poverty, Prosperity, and Planet Report 2024; Overview', 'trapped': '/False', 'source': '../example_data/PPPR 2024 - Overview.pdf', 'total_pages': 66, 'page': 26, 'page_label': '11', 'start_index': 1752}, page_content='smaller reduction in poverty (Bourguignon 2003). Simulations have shown that declines in \\ninequality can have a significant effect on reducing poverty (Bergstrom 2022; Lakner et al. \\n2022). However, this double dividend has been missed in some cases. Poverty reduction in \\nSub-Saharan Africa has been slow, largely because of slow growth. But a lack of improvement \\nin equality has also been a missed opportunity for poverty reduction (Sinha, Inchauste, and \\nNarayan 2024) in a region where many countries have abnormally high levels of inequality. \\nThere is a broad consensus that when inequality in a country is high it is harmful. High levels \\nof inequality within a country can be symptomatic of the inability of some population groups'), Document(id='7d71864e-67ef-475e-b55e-2dc878353cc6', metadata={'producer': 'Adobe PDF Library 15.0', 'creator': 'Adobe InDesign 15.1 (Macintosh)', 'creationdate': '2024-10-04T09:08:57+05:30', 'author': 'The World Bank Group', 'moddate': '2024-10-04T09:18:42+05:30', 'title': 'The Poverty, Prosperity, and Planet Report 2024; Overview', 'trapped': '/False', 'source': '../example_data/PPPR 2024 - Overview.pdf', 'total_pages': 66, 'page': 15, 'page_label': 'xiv', 'start_index': 1726}, page_content='the Middle East and North Africa, and West Africa. His current research interests include the \\nmeasurement and analysis of food insecurity and its determinants, building the evidence base \\nto alleviate poverty in conflict and fragile settings, and the measurement and analysis of gender \\ninequities and their determinants. Sharad holds an AB in economics from Cornell University \\nand an MA and PhD in economics from the University of California at Berkeley. \\nNele Warrinnier is an Economist in the Global Unit of the Poverty and Equity Global \\nPractice at the World Bank. Her research interests lie at the intersection of development and \\nlabor economics, focusing on inequality in labor markets and human capital formation in \\ndeveloping countries. As an applied microeconomist, she has worked on a wide range of topics, \\nincluding early childhood education, female labor force participation, inequality, informality, \\nand technology adoption. Prior to joining the World Bank, she was awarded a Marie Curie \\npostdoctoral fellowship at the School of Economics and Finance at Queen Mary University of \\nLondon. Nele holds an MSc from the London School of Economics and Political Science and a \\nPhD in economics from KU Leuven.')]\n",
      "\n",
      "\n",
      "Answer: <|im_start|>user\n",
      "You are an assistant for question-answering tasks. Use the following pieces of retrieved context to answer the question. If you don't know the answer, just say that you don't know. Use three sentences maximum and keep the answer concise.\n",
      "Question: What are the major factors causing poverty in MENA region? \n",
      "Context: regions and country groupings circa 2021. For more information on the multidimensional poverty measure and its \n",
      "components, see chapter 1 of the full report. Panel b: the sample consists of 45 countries that have data both for \n",
      "2010 and 2019. these countries represent 52 percent of the population in idA and 63 percent of the population in \n",
      "non-idA countries. the variables used to compute the risk indicator for the years 2010 and 2019 differ slightly from \n",
      "the risk indicator for the year 2021 used in other parts of the report. * the surveys available for 2020 or later cover \n",
      "less than 50 percent of the population.\n",
      "\n",
      "has had (Decerf et al. 2024).\n",
      "Extreme poverty has been increasingly concentrated in countries with slow \n",
      "economic growth\n",
      "A large factor in the slowing of global poverty reduction over the last decade is the changing \n",
      "regional composition of poverty. In 1990, East Asia and Pacific had a higher poverty rate than \n",
      "Sub-Saharan Africa, and South Asia had rates similar to Sub-Saharan Africa. This picture \n",
      "changed markedly over the years. Fueled by rapid growth, East Asia and Pacific experienced \n",
      "unprecedented progress that also drove poverty reduction at the global level. Until 2013, global \n",
      "extreme poverty reduction was led by China’s rapid economic growth, which lifted more than \n",
      "800 million people out of extreme poverty over three decades. Between 1990 and 2024, the rest \n",
      "of East Asia and Pacific also made remarkable progress, with 210 million people exiting extreme \n",
      "poverty during this period. Extreme poverty also fell significantly in South Asia, despite recent \n",
      "stagnation (see chapter 1).\n",
      "Since the early 2010s, progress in reducing global extreme poverty has depended on the \n",
      "reduction of poverty in Sub-Saharan Africa much more than it did before. Although the \n",
      "extreme poverty rate in Sub-Saharan Africa has fallen over the past three decades, it did so at \n",
      "much slower rates than in other regions, and the number of people living in extreme poverty \n",
      "in the region has come fairly close to doubling—rising from 282 million in 1990 to 464 million \n",
      "in 2024. Similarly, in the Middle East and North Africa, the number of people living in extreme \n",
      "poverty doubled from 15 million in 1990 to 30 million in 2024. Extreme poverty in that region \n",
      "has surged since 2014, driven by fragility, conflict, and inflation (Gatti et al. 2023).\n",
      "\n",
      "smaller reduction in poverty (Bourguignon 2003). Simulations have shown that declines in \n",
      "inequality can have a significant effect on reducing poverty (Bergstrom 2022; Lakner et al. \n",
      "2022). However, this double dividend has been missed in some cases. Poverty reduction in \n",
      "Sub-Saharan Africa has been slow, largely because of slow growth. But a lack of improvement \n",
      "in equality has also been a missed opportunity for poverty reduction (Sinha, Inchauste, and \n",
      "Narayan 2024) in a region where many countries have abnormally high levels of inequality. \n",
      "There is a broad consensus that when inequality in a country is high it is harmful. High levels \n",
      "of inequality within a country can be symptomatic of the inability of some population groups\n",
      "\n",
      "the Middle East and North Africa, and West Africa. His current research interests include the \n",
      "measurement and analysis of food insecurity and its determinants, building the evidence base \n",
      "to alleviate poverty in conflict and fragile settings, and the measurement and analysis of gender \n",
      "inequities and their determinants. Sharad holds an AB in economics from Cornell University \n",
      "and an MA and PhD in economics from the University of California at Berkeley. \n",
      "Nele Warrinnier is an Economist in the Global Unit of the Poverty and Equity Global \n",
      "Practice at the World Bank. Her research interests lie at the intersection of development and \n",
      "labor economics, focusing on inequality in labor markets and human capital formation in \n",
      "developing countries. As an applied microeconomist, she has worked on a wide range of topics, \n",
      "including early childhood education, female labor force participation, inequality, informality, \n",
      "and technology adoption. Prior to joining the World Bank, she was awarded a Marie Curie \n",
      "postdoctoral fellowship at the School of Economics and Finance at Queen Mary University of \n",
      "London. Nele holds an MSc from the London School of Economics and Political Science and a \n",
      "PhD in economics from KU Leuven. \n",
      "Answer:<|im_end|>\n",
      "<|im_start|>assistant\n",
      "<think>\n",
      "I need to analyze the retrieved context to answer the question about major factors causing poverty in the MENA region. Let me go through the context carefully.\n",
      "\n",
      "From the context, I can see some relevant information:\n",
      "\n",
      "1. In the last paragraph: \"Extreme poverty in that region [Middle East and North Africa] has surged since 2014, driven by fragility, conflict, and inflation (Gatti et al. 2023).\"\n",
      "\n",
      "This directly addresses the MENA region (Middle East and North Africa) and identifies factors causing poverty there: fragility, conflict, and inflation.\n",
      "\n",
      "2. Earlier in the context: \"In 1990, East Asia and Pacific had a higher poverty rate than Sub-Saharan Africa, and South Asia had rates similar to Sub-Saharan Africa. This picture changed markedly over the years.\" But this is historical context and not specifically about MENA.\n",
      "\n",
      "3. There's mention of \"poverty reduction in Sub-Saharan Africa has been slow, largely because of slow growth\" and \"a lack of improvement in equality has also been a missed opportunity for poverty reduction\" - but this is about Sub-Saharan Africa, not MENA.\n",
      "\n",
      "4. There's also a reference to \"the Middle East and North Africa, and West Africa\" in the author bios section, but this is not directly relevant to poverty factors.\n",
      "\n",
      "The most relevant and specific information is from the sentence: \"Extreme poverty in that region [Middle East and North Africa] has surged since 2014, driven by fragility, conflict, and inflation (Gatti et al. 2023).\"\n",
      "\n",
      "This indicates that for the MENA region (Middle East and North Africa), the major factors causing poverty surges have been fragility, conflict, and inflation.\n",
      "\n",
      "I need to make sure I'm not adding information that isn't in the context. The context doesn't explicitly list \"major factors causing poverty\" in MENA in general (it's talking about extreme poverty surges), but it does clearly state the drivers for the recent surge.\n",
      "\n",
      "So the answer I'll give will be based on this: fragility, conflict, and inflation are the major factors causing poverty to surge in the MENA region since 2014.\n",
      "\n",
      "I'll keep it concise with 3 sentences maximum.\n",
      "</think>\n",
      "\n",
      "The major factors causing poverty in the MENA region, particularly in the Middle East and North Africa, include fragility, conflict, and inflation, which have driven a surge in extreme poverty since 2014. These issues have led to a doubling of extreme poverty in the region from 15 million in 1990 to 30 million in 2024. The context specifically attributes this poverty increase to these interconnected challenges.\n"
     ]
    }
   ],
   "source": [
    "result = graph.invoke({\"question\": \"What are the major factors causing poverty in MENA region?\"})\n",
    "\n",
    "print(f\"Context: {result['context']}\\n\\n\")\n",
    "print(f\"Answer: {result['answer']}\")"
   ]
  }
 ],
 "metadata": {
  "kernelspec": {
   "display_name": ".venv",
   "language": "python",
   "name": "python3"
  },
  "language_info": {
   "codemirror_mode": {
    "name": "ipython",
    "version": 3
   },
   "file_extension": ".py",
   "mimetype": "text/x-python",
   "name": "python",
   "nbconvert_exporter": "python",
   "pygments_lexer": "ipython3",
   "version": "3.12.9"
  }
 },
 "nbformat": 4,
 "nbformat_minor": 5
}
